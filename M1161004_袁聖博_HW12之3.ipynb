{
  "cells": [
    {
      "cell_type": "markdown",
      "metadata": {
        "id": "fzqs5HY9SozV"
      },
      "source": [
        "## Neural style transfer（神經風格轉換）"
      ]
    },
    {
      "cell_type": "markdown",
      "metadata": {
        "id": "siQk32ozSozV"
      },
      "source": [
        "### The content loss"
      ]
    },
    {
      "cell_type": "markdown",
      "metadata": {
        "id": "fso0qNBOSozV"
      },
      "source": [
        "### The style loss"
      ]
    },
    {
      "cell_type": "markdown",
      "metadata": {
        "id": "RqI0PNyMSozV"
      },
      "source": [
        "### Neural style transfer in Keras"
      ]
    },
    {
      "cell_type": "markdown",
      "metadata": {
        "id": "a6RIeGm7SozW"
      },
      "source": [
        "**Getting the style and content images**"
      ]
    },
    {
      "cell_type": "code",
      "execution_count": null,
      "metadata": {
        "colab": {
          "base_uri": "https://localhost:8080/"
        },
        "id": "7IglSbn9SozW",
        "outputId": "8be8d14b-03e8-46c5-eca1-a67435cddcf1"
      },
      "outputs": [
        {
          "output_type": "stream",
          "name": "stdout",
          "text": [
            "Downloading data from https://img-datasets.s3.amazonaws.com/sf.jpg\n",
            "575046/575046 [==============================] - 1s 2us/step\n",
            "Downloading data from https://img-datasets.s3.amazonaws.com/starry_night.jpg\n",
            "943128/943128 [==============================] - 1s 1us/step\n"
          ]
        }
      ],
      "source": [
        "from tensorflow import keras\n",
        "\n",
        "base_image_path = keras.utils.get_file(\n",
        "    \"sf.jpg\", origin=\"https://img-datasets.s3.amazonaws.com/sf.jpg\")\n",
        "style_reference_image_path = keras.utils.get_file(\n",
        "    \"starry_night.jpg\", origin=\"https://img-datasets.s3.amazonaws.com/starry_night.jpg\")\n",
        "\n",
        "original_width, original_height = keras.utils.load_img(base_image_path).size\n",
        "img_height = 400\n",
        "img_width = round(original_width * img_height / original_height)"
      ]
    },
    {
      "cell_type": "markdown",
      "metadata": {
        "id": "kKIr0S4xSozX"
      },
      "source": [
        "**Auxiliary functions**"
      ]
    },
    {
      "cell_type": "code",
      "execution_count": null,
      "metadata": {
        "id": "CSVnRfjnSozX"
      },
      "outputs": [],
      "source": [
        "import numpy as np\n",
        "\n",
        "def preprocess_image(image_path):\n",
        "    img = keras.utils.load_img(\n",
        "        image_path, target_size=(img_height, img_width))\n",
        "    img = keras.utils.img_to_array(img)\n",
        "    img = np.expand_dims(img, axis=0)\n",
        "    img = keras.applications.vgg19.preprocess_input(img)\n",
        "    return img\n",
        "\n",
        "def deprocess_image(img):\n",
        "    img = img.reshape((img_height, img_width, 3))\n",
        "    img[:, :, 0] += 103.939\n",
        "    img[:, :, 1] += 116.779\n",
        "    img[:, :, 2] += 123.68\n",
        "    img = img[:, :, ::-1]\n",
        "    img = np.clip(img, 0, 255).astype(\"uint8\")\n",
        "    return img"
      ]
    },
    {
      "cell_type": "markdown",
      "metadata": {
        "id": "a8TM3ZQySozX"
      },
      "source": [
        "**Using a pretrained VGG19 model to create a feature extractor**"
      ]
    },
    {
      "cell_type": "code",
      "execution_count": null,
      "metadata": {
        "colab": {
          "base_uri": "https://localhost:8080/"
        },
        "id": "3IWyVS0xSozY",
        "outputId": "6a7e6b9f-16b0-4b83-a32f-616d14a35528"
      },
      "outputs": [
        {
          "output_type": "stream",
          "name": "stdout",
          "text": [
            "Downloading data from https://storage.googleapis.com/tensorflow/keras-applications/vgg19/vgg19_weights_tf_dim_ordering_tf_kernels_notop.h5\n",
            "80134624/80134624 [==============================] - 5s 0us/step\n"
          ]
        }
      ],
      "source": [
        "model = keras.applications.vgg19.VGG19(weights=\"imagenet\", include_top=False)\n",
        "\n",
        "outputs_dict = dict([(layer.name, layer.output) for layer in model.layers])\n",
        "feature_extractor = keras.Model(inputs=model.inputs, outputs=outputs_dict)"
      ]
    },
    {
      "cell_type": "markdown",
      "metadata": {
        "id": "zO5Sh1A_SozY"
      },
      "source": [
        "**Content loss**"
      ]
    },
    {
      "cell_type": "code",
      "execution_count": null,
      "metadata": {
        "id": "WQsCrUACSozY"
      },
      "outputs": [],
      "source": [
        "def content_loss(base_img, combination_img):\n",
        "    return tf.reduce_sum(tf.square(combination_img - base_img))"
      ]
    },
    {
      "cell_type": "markdown",
      "metadata": {
        "id": "KTwJsUqhSozY"
      },
      "source": [
        "**Style loss**"
      ]
    },
    {
      "cell_type": "code",
      "execution_count": null,
      "metadata": {
        "id": "rXFeRYY3SozY"
      },
      "outputs": [],
      "source": [
        "def gram_matrix(x):\n",
        "    x = tf.transpose(x, (2, 0, 1))\n",
        "    features = tf.reshape(x, (tf.shape(x)[0], -1))\n",
        "    gram = tf.matmul(features, tf.transpose(features))\n",
        "    return gram\n",
        "\n",
        "def style_loss(style_img, combination_img):\n",
        "    S = gram_matrix(style_img)\n",
        "    C = gram_matrix(combination_img)\n",
        "    channels = 3\n",
        "    size = img_height * img_width\n",
        "    return tf.reduce_sum(tf.square(S - C)) / (4.0 * (channels ** 2) * (size ** 2))"
      ]
    },
    {
      "cell_type": "markdown",
      "metadata": {
        "id": "9ju85iZQSozZ"
      },
      "source": [
        "**Total variation loss**"
      ]
    },
    {
      "cell_type": "code",
      "execution_count": null,
      "metadata": {
        "id": "Me-WqZmeSozZ"
      },
      "outputs": [],
      "source": [
        "def total_variation_loss(x):\n",
        "    a = tf.square(\n",
        "        x[:, : img_height - 1, : img_width - 1, :] - x[:, 1:, : img_width - 1, :]\n",
        "    )\n",
        "    b = tf.square(\n",
        "        x[:, : img_height - 1, : img_width - 1, :] - x[:, : img_height - 1, 1:, :]\n",
        "    )\n",
        "    return tf.reduce_sum(tf.pow(a + b, 1.25))"
      ]
    },
    {
      "cell_type": "markdown",
      "metadata": {
        "id": "WyNcWOO0SozZ"
      },
      "source": [
        "**Defining the final loss that you'll minimize**"
      ]
    },
    {
      "cell_type": "code",
      "execution_count": null,
      "metadata": {
        "id": "7S_AepNQSozZ"
      },
      "outputs": [],
      "source": [
        "style_layer_names = [\n",
        "    \"block1_conv1\",\n",
        "    \"block2_conv1\",\n",
        "    \"block3_conv1\",\n",
        "    \"block4_conv1\",\n",
        "    \"block5_conv1\",\n",
        "]\n",
        "content_layer_name = \"block5_conv2\"\n",
        "total_variation_weight = 1e-6\n",
        "style_weight = 1e-6\n",
        "content_weight = 2.5e-8\n",
        "\n",
        "def compute_loss(combination_image, base_image, style_reference_image):\n",
        "    input_tensor = tf.concat(\n",
        "        [base_image, style_reference_image, combination_image], axis=0\n",
        "    )\n",
        "    features = feature_extractor(input_tensor)\n",
        "    loss = tf.zeros(shape=())\n",
        "    layer_features = features[content_layer_name]\n",
        "    base_image_features = layer_features[0, :, :, :]\n",
        "    combination_features = layer_features[2, :, :, :]\n",
        "    loss = loss + content_weight * content_loss(\n",
        "        base_image_features, combination_features\n",
        "    )\n",
        "    for layer_name in style_layer_names:\n",
        "        layer_features = features[layer_name]\n",
        "        style_reference_features = layer_features[1, :, :, :]\n",
        "        combination_features = layer_features[2, :, :, :]\n",
        "        style_loss_value = style_loss(\n",
        "          style_reference_features, combination_features)\n",
        "        loss += (style_weight / len(style_layer_names)) * style_loss_value\n",
        "\n",
        "    loss += total_variation_weight * total_variation_loss(combination_image)\n",
        "    return loss"
      ]
    },
    {
      "cell_type": "markdown",
      "metadata": {
        "id": "ZO7e2tlxSozZ"
      },
      "source": [
        "**Setting up the gradient-descent process**"
      ]
    },
    {
      "cell_type": "code",
      "execution_count": null,
      "metadata": {
        "colab": {
          "base_uri": "https://localhost:8080/"
        },
        "id": "rvOk-FNnSozZ",
        "outputId": "cf798d82-601e-406a-f058-2d189b3a37cc"
      },
      "outputs": [
        {
          "output_type": "stream",
          "name": "stdout",
          "text": [
            "Iteration 100: loss=8137.23\n",
            "Iteration 200: loss=6652.69\n",
            "Iteration 300: loss=6063.23\n",
            "Iteration 400: loss=5742.06\n",
            "Iteration 500: loss=5535.56\n",
            "Iteration 600: loss=5389.89\n",
            "Iteration 700: loss=5280.49\n",
            "Iteration 800: loss=5194.86\n",
            "Iteration 900: loss=5125.79\n",
            "Iteration 1000: loss=5068.89\n",
            "Iteration 1100: loss=5021.18\n",
            "Iteration 1200: loss=4980.38\n",
            "Iteration 1300: loss=4945.17\n",
            "Iteration 1400: loss=4914.32\n",
            "Iteration 1500: loss=4887.17\n",
            "Iteration 1600: loss=4863.09\n",
            "Iteration 1700: loss=4841.55\n",
            "Iteration 1800: loss=4822.21\n",
            "Iteration 1900: loss=4804.75\n",
            "Iteration 2000: loss=4788.90\n",
            "Iteration 2100: loss=4774.48\n",
            "Iteration 2200: loss=4761.31\n",
            "Iteration 2300: loss=4749.23\n",
            "Iteration 2400: loss=4738.12\n",
            "Iteration 2500: loss=4727.89\n",
            "Iteration 2600: loss=4718.43\n",
            "Iteration 2700: loss=4709.69\n",
            "Iteration 2800: loss=4701.59\n",
            "Iteration 2900: loss=4694.03\n",
            "Iteration 3000: loss=4686.96\n",
            "Iteration 3100: loss=4680.35\n",
            "Iteration 3200: loss=4674.16\n",
            "Iteration 3300: loss=4668.36\n",
            "Iteration 3400: loss=4662.93\n",
            "Iteration 3500: loss=4657.83\n",
            "Iteration 3600: loss=4653.04\n",
            "Iteration 3700: loss=4648.54\n",
            "Iteration 3800: loss=4644.29\n",
            "Iteration 3900: loss=4640.29\n",
            "Iteration 4000: loss=4636.52\n"
          ]
        }
      ],
      "source": [
        "import tensorflow as tf\n",
        "\n",
        "@tf.function\n",
        "def compute_loss_and_grads(combination_image, base_image, style_reference_image):\n",
        "    with tf.GradientTape() as tape:\n",
        "        loss = compute_loss(combination_image, base_image, style_reference_image)\n",
        "    grads = tape.gradient(loss, combination_image)\n",
        "    return loss, grads\n",
        "\n",
        "optimizer = keras.optimizers.SGD(\n",
        "    keras.optimizers.schedules.ExponentialDecay(\n",
        "        initial_learning_rate=100.0, decay_steps=100, decay_rate=0.96\n",
        "    )\n",
        ")\n",
        "\n",
        "base_image = preprocess_image(base_image_path)\n",
        "style_reference_image = preprocess_image(style_reference_image_path)\n",
        "combination_image = tf.Variable(preprocess_image(base_image_path))\n",
        "\n",
        "iterations = 4000\n",
        "for i in range(1, iterations + 1):\n",
        "    loss, grads = compute_loss_and_grads(\n",
        "        combination_image, base_image, style_reference_image\n",
        "    )\n",
        "    optimizer.apply_gradients([(grads, combination_image)])\n",
        "    if i % 100 == 0:\n",
        "        print(f\"Iteration {i}: loss={loss:.2f}\")\n",
        "        img = deprocess_image(combination_image.numpy())\n",
        "        fname = f\"combination_image_at_iteration_{i}.png\"\n",
        "        keras.utils.save_img(fname, img)"
      ]
    },
    {
      "cell_type": "markdown",
      "metadata": {
        "id": "cKoOblx4Soza"
      },
      "source": [
        "### Wrapping up"
      ]
    }
  ],
  "metadata": {
    "colab": {
      "provenance": [],
      "toc_visible": true
    },
    "kernelspec": {
      "display_name": "Python 3",
      "language": "python",
      "name": "python3"
    },
    "language_info": {
      "codemirror_mode": {
        "name": "ipython",
        "version": 3
      },
      "file_extension": ".py",
      "mimetype": "text/x-python",
      "name": "python",
      "nbconvert_exporter": "python",
      "pygments_lexer": "ipython3",
      "version": "3.7.0"
    },
    "accelerator": "GPU",
    "gpuClass": "standard"
  },
  "nbformat": 4,
  "nbformat_minor": 0
}